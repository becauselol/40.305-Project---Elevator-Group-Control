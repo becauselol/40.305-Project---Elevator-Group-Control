{
 "cells": [
  {
   "cell_type": "markdown",
   "id": "e6dafcb3",
   "metadata": {},
   "source": [
    "# Interactive Analysis"
   ]
  },
  {
   "cell_type": "markdown",
   "id": "d4e95507",
   "metadata": {},
   "source": [
    "Demonstration of how to import simulation for analysis"
   ]
  },
  {
   "cell_type": "code",
   "execution_count": 1,
   "id": "a5519ef4",
   "metadata": {},
   "outputs": [],
   "source": [
    "from simulation import Simulation\n",
    "from analysis.homogeneous.analysis_edited import calculate_expected\n",
    "from analysis.homogeneous.analysis_edited import output_to_array\n"
   ]
  },
  {
   "cell_type": "code",
   "execution_count": 2,
   "id": "09771251",
   "metadata": {},
   "outputs": [],
   "source": [
    "num_floors = 4 # must be 4 for now\n",
    "# Declare the simulation\n",
    "sim = Simulation(num_floors)"
   ]
  },
  {
   "cell_type": "code",
   "execution_count": 3,
   "metadata": {},
   "outputs": [],
   "source": [
    "df = []"
   ]
  },
  {
   "cell_type": "code",
   "execution_count": 4,
   "id": "34c10e3c",
   "metadata": {},
   "outputs": [
    {
     "name": "stdout",
     "output_type": "stream",
     "text": [
      "cycle: 0\n",
      "cycle duration: 87.3355933179763\n",
      "cycle: 1\n",
      "cycle duration: 89.5\n",
      "cycle: 2\n",
      "cycle duration: 60.0\n",
      "cycle: 3\n",
      "cycle duration: 90.910664456257\n",
      "cycle: 4\n",
      "cycle duration: 50.0\n",
      "cycle: 5\n",
      "cycle duration: 104.43075683697487\n",
      "cycle: 6\n",
      "cycle duration: 43.55257791701365\n",
      "cycle: 7\n",
      "cycle duration: 130.36543687739595\n",
      "cycle: 8\n",
      "cycle duration: 57.0\n",
      "cycle: 9\n",
      "cycle duration: 251.7003277268218\n",
      "NUMBER OF CYCLES\n",
      "10\n"
     ]
    }
   ],
   "source": [
    "for idx, data in enumerate(sim.simulate(1000)):\n",
    "    print(\"cycle:\", idx)\n",
    "    print(\"cycle duration:\", data.cycle_duration)\n",
    "    df.append(data)\n",
    "\n"
   ]
  },
  {
   "cell_type": "code",
   "execution_count": 5,
   "metadata": {},
   "outputs": [
    {
     "data": {
      "text/plain": [
       "{'wait_t': [4.321497126172364,\n",
       "  4.967674359339276,\n",
       "  5.320426467476826,\n",
       "  4.8274622199248585,\n",
       "  4.195359920550391,\n",
       "  4.375189954030864,\n",
       "  4.811740395584048,\n",
       "  4.1090820954399385,\n",
       "  5.414185346933104,\n",
       "  4.9207657044767386],\n",
       " 'num_passenger': [58, 51, 24, 57, 31, 56, 25, 69, 39, 161]}"
      ]
     },
     "execution_count": 5,
     "metadata": {},
     "output_type": "execute_result"
    }
   ],
   "source": [
    "array = output_to_array(df) \n",
    "array[1] # reward dict, containing different values"
   ]
  },
  {
   "cell_type": "code",
   "execution_count": 6,
   "metadata": {},
   "outputs": [
    {
     "data": {
      "text/plain": [
       "{'expected reward': 4.726338358992841,\n",
       " 'expected cycle length': 96.47953571324396,\n",
       " 'steady state average': 0.04898798822001427,\n",
       " 'np cov': array([[ 2.09975976e-01, -2.30480752e+00],\n",
       "        [-2.30480752e+00,  3.70214542e+03]]),\n",
       " 'reward variance': 0.2099759759316046,\n",
       " 'cycle variance': 3702.1454204927395,\n",
       " 'covariance estimate': -2.3048075192359563,\n",
       " 'sample variance': 9.320285434980175,\n",
       " 'interval 1-side length': 0.01961225325093075,\n",
       " 'upper interval': 0.06860024147094501,\n",
       " 'lower interval': 0.029375734969083515}"
      ]
     },
     "execution_count": 6,
     "metadata": {},
     "output_type": "execute_result"
    }
   ],
   "source": [
    "calculate_expected(array[0], array[1]['wait_t']) # expected wait time"
   ]
  },
  {
   "cell_type": "code",
   "execution_count": 7,
   "metadata": {},
   "outputs": [
    {
     "data": {
      "text/plain": [
       "{'expected reward': 57.1,\n",
       " 'expected cycle length': 96.47953571324396,\n",
       " 'steady state average': 0.5918353522109845,\n",
       " 'np cov': array([[1567.87777778, 2376.77357039],\n",
       "        [2376.77357039, 3702.14542049]]),\n",
       " 'reward variance': 1567.877777777778,\n",
       " 'cycle variance': 3702.1454204927395,\n",
       " 'covariance estimate': 2376.773570393504,\n",
       " 'sample variance': 51.3076171984294,\n",
       " 'interval 1-side length': 0.046015464367417394,\n",
       " 'upper interval': 0.6378508165784019,\n",
       " 'lower interval': 0.545819887843567}"
      ]
     },
     "execution_count": 7,
     "metadata": {},
     "output_type": "execute_result"
    }
   ],
   "source": [
    "calculate_expected(array[0], array[1]['num_passenger']) # expected no. of passengers in a cycle"
   ]
  }
 ],
 "metadata": {
  "kernelspec": {
   "display_name": "Python 3 (ipykernel)",
   "language": "python",
   "name": "python3"
  },
  "language_info": {
   "codemirror_mode": {
    "name": "ipython",
    "version": 3
   },
   "file_extension": ".py",
   "mimetype": "text/x-python",
   "name": "python",
   "nbconvert_exporter": "python",
   "pygments_lexer": "ipython3",
   "version": "3.11.6"
  }
 },
 "nbformat": 4,
 "nbformat_minor": 5
}
