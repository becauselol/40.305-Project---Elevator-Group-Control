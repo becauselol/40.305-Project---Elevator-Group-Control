{
 "cells": [
  {
   "cell_type": "markdown",
   "id": "e6dafcb3",
   "metadata": {},
   "source": [
    "# Interactive Analysis"
   ]
  },
  {
   "cell_type": "markdown",
   "id": "d4e95507",
   "metadata": {},
   "source": [
    "Demonstration of how to import simulation for analysis"
   ]
  },
  {
   "cell_type": "code",
   "execution_count": 1,
   "id": "a5519ef4",
   "metadata": {},
   "outputs": [],
   "source": [
    "from simulation import Simulation\n",
    "from analysis.homogeneous.analysis_edited import calculate_expected\n",
    "from analysis.homogeneous.analysis_edited import output\n"
   ]
  },
  {
   "cell_type": "code",
   "execution_count": 2,
   "id": "09771251",
   "metadata": {},
   "outputs": [],
   "source": [
    "num_floors = 4 # must be 4 for now\n",
    "# Declare the simulation\n",
    "sim = Simulation(num_floors)"
   ]
  },
  {
   "cell_type": "code",
   "execution_count": 3,
   "metadata": {},
   "outputs": [],
   "source": [
    "# cycles = []\n",
    "# rewards = []"
   ]
  },
  {
   "cell_type": "code",
   "execution_count": 4,
   "id": "34c10e3c",
   "metadata": {},
   "outputs": [
    {
     "name": "stdout",
     "output_type": "stream",
     "text": [
      "cycle: 0\n",
      "cycle duration: 19.50068154314232\n",
      "cycle: 1\n",
      "cycle duration: 8.5\n",
      "cycle: 2\n",
      "cycle duration: 8.526176586324723\n",
      "cycle: 3\n",
      "cycle duration: 9.5\n",
      "cycle: 4\n",
      "cycle duration: 216.1682523323513\n",
      "cycle: 5\n",
      "cycle duration: 61.177911432195685\n",
      "cycle: 6\n",
      "cycle duration: 16.5\n",
      "cycle: 7\n",
      "cycle duration: 554.8229359861741\n",
      "NUMBER OF CYCLES\n",
      "8\n"
     ]
    }
   ],
   "source": [
    "for idx, data in enumerate(sim.simulate(1000)):\n",
    "    print(\"cycle:\", idx)\n",
    "    print(\"cycle duration:\", data.cycle_duration)\n",
    "    # cycles.append(data.cycle_duration)\n",
    "    # rewards.append(data.passengers['sys_time'].sum())\n",
    "\n"
   ]
  },
  {
   "cell_type": "code",
   "execution_count": 3,
   "metadata": {},
   "outputs": [
    {
     "name": "stdout",
     "output_type": "stream",
     "text": [
      "NUMBER OF CYCLES\n",
      "49\n"
     ]
    }
   ],
   "source": [
    "array = output()"
   ]
  },
  {
   "cell_type": "code",
   "execution_count": null,
   "metadata": {},
   "outputs": [],
   "source": [
    "calculate_expected(array[0], array[1])"
   ]
  }
 ],
 "metadata": {
  "kernelspec": {
   "display_name": "Python 3 (ipykernel)",
   "language": "python",
   "name": "python3"
  },
  "language_info": {
   "codemirror_mode": {
    "name": "ipython",
    "version": 3
   },
   "file_extension": ".py",
   "mimetype": "text/x-python",
   "name": "python",
   "nbconvert_exporter": "python",
   "pygments_lexer": "ipython3",
   "version": "3.11.6"
  }
 },
 "nbformat": 4,
 "nbformat_minor": 5
}
