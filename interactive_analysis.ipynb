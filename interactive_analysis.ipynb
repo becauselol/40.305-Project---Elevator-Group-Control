{
 "cells": [
  {
   "cell_type": "markdown",
   "id": "e6dafcb3",
   "metadata": {},
   "source": [
    "# Interactive Analysis"
   ]
  },
  {
   "cell_type": "markdown",
   "id": "d4e95507",
   "metadata": {},
   "source": [
    "Demonstration of how to import simulation for analysis"
   ]
  },
  {
   "cell_type": "code",
   "execution_count": null,
   "id": "278e829c",
   "metadata": {},
   "outputs": [],
   "source": [
    "## from simulation import Simulation\n",
    "# from analysis.homogeneous.analysis import calculate_expected\n",
    "# from analysis.homogeneous.analysis import output_to_array\n",
    "import numpy as np\n",
    "import random"
   ]
  },
  {
   "cell_type": "code",
   "execution_count": null,
   "id": "bb155cb7",
   "metadata": {},
   "outputs": [],
   "source": [
    "from simulation.classes.sim import Simulation"
   ]
  },
  {
   "cell_type": "code",
   "execution_count": null,
   "id": "09771251",
   "metadata": {},
   "outputs": [],
   "source": [
    "random.seed(1)\n",
    "np.random.seed(1)\n",
    "num_floors = 4 # must be 4 for now\n",
    "# Declare the simulation\n",
    "sim = Simulation(num_floors)"
   ]
  },
  {
   "cell_type": "code",
   "execution_count": null,
   "id": "118047bf",
   "metadata": {},
   "outputs": [],
   "source": [
    "df = []"
   ]
  },
  {
   "cell_type": "code",
   "execution_count": null,
   "id": "34c10e3c",
   "metadata": {},
   "outputs": [],
   "source": [
    "for idx, data in enumerate(sim.simulate(72000)):\n",
    "    print(\"cycle:\", idx)\n",
    "    print(\"cycle duration:\", data.cycle_duration)\n",
    "    df.append(data)\n",
    "    print(\"start: \", data.start_time, \"end: \", data.end_time)\n",
    "    # print(data.passengers)\n",
    "\n"
   ]
  },
  {
   "cell_type": "code",
   "execution_count": null,
   "id": "221e5304",
   "metadata": {},
   "outputs": [],
   "source": [
    "array = output_to_array(df) \n",
    "array[1] # reward dict, containing different values"
   ]
  },
  {
   "cell_type": "code",
   "execution_count": null,
   "id": "b3d88169",
   "metadata": {},
   "outputs": [],
   "source": [
    "print(array[0])"
   ]
  },
  {
   "cell_type": "code",
   "execution_count": null,
   "id": "e0039d77",
   "metadata": {},
   "outputs": [],
   "source": [
    "# expected(wait time/ people in cycle * cycle time) / expected cycle time\n",
    "fract = []\n",
    "for i in range(len(df)):\n",
    "    a = (array[1]['wait_t'][i]/array[1]['num_passenger'][i])*array[0][i]\n",
    "    fract.append(a)"
   ]
  },
  {
   "cell_type": "code",
   "execution_count": null,
   "id": "262088e5",
   "metadata": {},
   "outputs": [],
   "source": [
    "calculate_expected(array[0],fract)"
   ]
  },
  {
   "cell_type": "code",
   "execution_count": null,
   "id": "27d29a61",
   "metadata": {},
   "outputs": [],
   "source": [
    "calculate_expected(array[0], array[1]['wait_t']) # expected wait time"
   ]
  },
  {
   "cell_type": "code",
   "execution_count": null,
   "id": "a208b272",
   "metadata": {},
   "outputs": [],
   "source": [
    "calculate_expected(array[0], array[1]['num_passenger']) # expected no. of passengers in a cycle"
   ]
  },
  {
   "cell_type": "code",
   "execution_count": null,
   "id": "dfb48707",
   "metadata": {},
   "outputs": [],
   "source": [
    "calculate_expected(array[0], array[1]['idle_time'])"
   ]
  }
 ],
 "metadata": {
  "kernelspec": {
   "display_name": "Python 3 (ipykernel)",
   "language": "python",
   "name": "python3"
  },
  "language_info": {
   "codemirror_mode": {
    "name": "ipython",
    "version": 3
   },
   "file_extension": ".py",
   "mimetype": "text/x-python",
   "name": "python",
   "nbconvert_exporter": "python",
   "pygments_lexer": "ipython3",
   "version": "3.9.13"
  }
 },
 "nbformat": 4,
 "nbformat_minor": 5
}
