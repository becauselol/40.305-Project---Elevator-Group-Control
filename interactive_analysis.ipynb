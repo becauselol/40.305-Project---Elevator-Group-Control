{
 "cells": [
  {
   "cell_type": "markdown",
   "id": "e6dafcb3",
   "metadata": {},
   "source": [
    "# Interactive Analysis"
   ]
  },
  {
   "cell_type": "markdown",
   "id": "d4e95507",
   "metadata": {},
   "source": [
    "Demonstration of how to import simulation for analysis"
   ]
  },
  {
   "cell_type": "code",
   "execution_count": 1,
   "id": "a5519ef4",
   "metadata": {},
   "outputs": [],
   "source": [
    "from simulation import Simulation"
   ]
  },
  {
   "cell_type": "code",
   "execution_count": 2,
   "id": "09771251",
   "metadata": {},
   "outputs": [],
   "source": [
    "num_floors = 4 # must be 4 for now\n",
    "# Declare the simulation\n",
    "sim = Simulation(num_floors)"
   ]
  },
  {
   "cell_type": "code",
   "execution_count": 3,
   "id": "34c10e3c",
   "metadata": {},
   "outputs": [
    {
     "name": "stdout",
     "output_type": "stream",
     "text": [
      "cycle: 0\n",
      "cycle duration: 52.480365185917165\n",
      "cycle: 1\n",
      "cycle duration: 44.16934811429729\n",
      "cycle: 2\n",
      "cycle duration: 71.40175189162876\n",
      "cycle: 3\n",
      "cycle duration: 303.32630432740007\n",
      "cycle: 4\n",
      "cycle duration: 157.012725305091\n",
      "cycle: 5\n",
      "cycle duration: 76.5190776382284\n",
      "cycle: 6\n",
      "cycle duration: 172.57504079138835\n",
      "NUMBER OF CYCLES\n",
      "7\n"
     ]
    }
   ],
   "source": [
    "for idx, data in enumerate(sim.simulate(1000)):\n",
    "    print(\"cycle:\", idx)\n",
    "    print(\"cycle duration:\", data.cycle_duration)"
   ]
  },
  {
   "cell_type": "code",
   "execution_count": null,
   "id": "f057bf75",
   "metadata": {},
   "outputs": [],
   "source": []
  }
 ],
 "metadata": {
  "kernelspec": {
   "display_name": "Python 3 (ipykernel)",
   "language": "python",
   "name": "python3"
  },
  "language_info": {
   "codemirror_mode": {
    "name": "ipython",
    "version": 3
   },
   "file_extension": ".py",
   "mimetype": "text/x-python",
   "name": "python",
   "nbconvert_exporter": "python",
   "pygments_lexer": "ipython3",
   "version": "3.9.13"
  }
 },
 "nbformat": 4,
 "nbformat_minor": 5
}
