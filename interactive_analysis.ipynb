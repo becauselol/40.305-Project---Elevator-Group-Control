{
 "cells": [
  {
   "cell_type": "markdown",
   "id": "e6dafcb3",
   "metadata": {},
   "source": [
    "# Interactive Analysis"
   ]
  },
  {
   "cell_type": "markdown",
   "id": "d4e95507",
   "metadata": {},
   "source": [
    "Demonstration of how to import simulation for analysis"
   ]
  },
  {
   "cell_type": "code",
   "execution_count": 1,
   "id": "a5519ef4",
   "metadata": {},
   "outputs": [],
   "source": [
    "from simulation import Simulation\n",
    "from analysis.homogeneous.analysis_edited import calculate_expected\n",
    "from analysis.homogeneous.analysis_edited import output_to_array\n",
    "import numpy as np\n",
    "import random"
   ]
  },
  {
   "cell_type": "code",
   "execution_count": 2,
   "id": "09771251",
   "metadata": {},
   "outputs": [],
   "source": [
    "random.seed(1)\n",
    "np.random.seed(1)\n",
    "num_floors = 4 # must be 4 for now\n",
    "# Declare the simulation\n",
    "sim = Simulation(num_floors)"
   ]
  },
  {
   "cell_type": "code",
   "execution_count": 3,
   "metadata": {},
   "outputs": [],
   "source": [
    "df = []"
   ]
  },
  {
   "cell_type": "code",
   "execution_count": 4,
   "id": "34c10e3c",
   "metadata": {},
   "outputs": [
    {
     "name": "stdout",
     "output_type": "stream",
     "text": [
      "cycle: 0\n",
      "cycle duration: 120.02763695826425\n",
      "start:  0 end:  120.02763695826425\n",
      "cycle: 1\n",
      "cycle duration: 56.074063952809695\n",
      "start:  120.02763695826425 end:  176.10170091107395\n",
      "cycle: 2\n",
      "cycle duration: 9.220254471614425\n",
      "start:  176.10170091107395 end:  185.32195538268837\n",
      "cycle: 3\n",
      "cycle duration: 132.5\n",
      "start:  185.32195538268837 end:  317.8219553826884\n",
      "cycle: 4\n",
      "cycle duration: 56.0\n",
      "start:  317.8219553826884 end:  373.8219553826884\n",
      "cycle: 5\n",
      "cycle duration: 305.0626008145096\n",
      "start:  373.8219553826884 end:  678.884556197198\n",
      "cycle: 6\n",
      "cycle duration: 82.42410752315709\n",
      "start:  678.884556197198 end:  761.3086637203551\n",
      "cycle: 7\n",
      "cycle duration: 50.0\n",
      "start:  761.3086637203551 end:  811.3086637203551\n",
      "cycle: 8\n",
      "cycle duration: 87.0809220457528\n",
      "start:  811.3086637203551 end:  898.3895857661079\n",
      "NUMBER OF CYCLES\n",
      "9\n"
     ]
    }
   ],
   "source": [
    "for idx, data in enumerate(sim.simulate(1000)):\n",
    "    print(\"cycle:\", idx)\n",
    "    print(\"cycle duration:\", data.cycle_duration)\n",
    "    df.append(data)\n",
    "    print(\"start: \", data.start_time, \"end: \", data.end_time)\n",
    "    # print(data.passengers)\n",
    "\n"
   ]
  },
  {
   "cell_type": "code",
   "execution_count": 5,
   "metadata": {},
   "outputs": [
    {
     "data": {
      "text/plain": [
       "{'wait_t': [336.1369246285002,\n",
       "  161.00641018913655,\n",
       "  1.5,\n",
       "  364.2685534731112,\n",
       "  153.56045543343464,\n",
       "  761.1857972003272,\n",
       "  212.5424446743143,\n",
       "  122.2868214126471,\n",
       "  258.15561841023646],\n",
       " 'num_passenger': [75, 30, 1, 86, 27, 174, 52, 30, 53]}"
      ]
     },
     "execution_count": 5,
     "metadata": {},
     "output_type": "execute_result"
    }
   ],
   "source": [
    "array = output_to_array(df) \n",
    "array[1] # reward dict, containing different values"
   ]
  },
  {
   "cell_type": "code",
   "execution_count": 6,
   "metadata": {},
   "outputs": [
    {
     "data": {
      "text/plain": [
       "[120.02763695826425,\n",
       " 56.074063952809695,\n",
       " 9.220254471614425,\n",
       " 132.5,\n",
       " 56.0,\n",
       " 305.0626008145096,\n",
       " 82.42410752315709,\n",
       " 50.0,\n",
       " 87.0809220457528]"
      ]
     },
     "execution_count": 6,
     "metadata": {},
     "output_type": "execute_result"
    }
   ],
   "source": [
    "array[0]"
   ]
  },
  {
   "cell_type": "code",
   "execution_count": 22,
   "metadata": {},
   "outputs": [],
   "source": [
    "# expected(wait time/ people in cycle * cycle time) / expected cycle time\n",
    "fract = []\n",
    "for i in range(len(df)):\n",
    "    a = (array[1]['wait_t'][i]/array[1]['num_passenger'][i])*array[0][i]\n",
    "    fract.append(a)"
   ]
  },
  {
   "cell_type": "code",
   "execution_count": 23,
   "metadata": {},
   "outputs": [
    {
     "data": {
      "text/plain": [
       "{'expected reward': 447.9825423361018,\n",
       " 'expected cycle length': 99.8210650851231,\n",
       " 'steady state average': 4.487855764252582,\n",
       " 'np cov': array([[138287.22071862,  31664.80703061],\n",
       "        [ 31664.80703061,   7323.75037037]]),\n",
       " 'reward variance': 138287.22071862206,\n",
       " 'cycle variance': 7323.750370371855,\n",
       " 'covariance estimate': 31664.807030605218,\n",
       " 'sample variance': 1579.600171415077,\n",
       " 'interval 1-side length': 0.26012268187063686,\n",
       " 'upper interval': 4.747978446123219,\n",
       " 'lower interval': 4.227733082381945}"
      ]
     },
     "execution_count": 23,
     "metadata": {},
     "output_type": "execute_result"
    }
   ],
   "source": [
    "calculate_expected(array[0],fract)"
   ]
  },
  {
   "cell_type": "code",
   "execution_count": 7,
   "metadata": {},
   "outputs": [
    {
     "data": {
      "text/plain": [
       "{'expected reward': 263.40478060241196,\n",
       " 'expected cycle length': 99.8210650851231,\n",
       " 'steady state average': 2.6387694859576154,\n",
       " 'np cov': array([[47115.4414251 , 18491.92533118],\n",
       "        [18491.92533118,  7323.75037037]]),\n",
       " 'reward variance': 47115.44142509801,\n",
       " 'cycle variance': 7323.750370371855,\n",
       " 'covariance estimate': 18491.925331180486,\n",
       " 'sample variance': 519.6232526383537,\n",
       " 'interval 1-side length': 0.14919316437314398,\n",
       " 'upper interval': 2.7879626503307593,\n",
       " 'lower interval': 2.4895763215844715}"
      ]
     },
     "execution_count": 7,
     "metadata": {},
     "output_type": "execute_result"
    }
   ],
   "source": [
    "calculate_expected(array[0], array[1]['wait_t']) # expected wait time"
   ]
  },
  {
   "cell_type": "code",
   "execution_count": 8,
   "metadata": {},
   "outputs": [
    {
     "data": {
      "text/plain": [
       "{'expected reward': 58.666666666666664,\n",
       " 'expected cycle length': 99.8210650851231,\n",
       " 'steady state average': 0.58771829990632,\n",
       " 'np cov': array([[2545.5       , 4297.15344767],\n",
       "        [4297.15344767, 7323.75037037]]),\n",
       " 'reward variance': 2545.5,\n",
       " 'cycle variance': 7323.750370371855,\n",
       " 'covariance estimate': 4297.1534476668085,\n",
       " 'sample variance': 24.18568486046388,\n",
       " 'interval 1-side length': 0.03218724692387382,\n",
       " 'upper interval': 0.6199055468301938,\n",
       " 'lower interval': 0.5555310529824461}"
      ]
     },
     "execution_count": 8,
     "metadata": {},
     "output_type": "execute_result"
    }
   ],
   "source": [
    "calculate_expected(array[0], array[1]['num_passenger']) # expected no. of passengers in a cycle"
   ]
  }
 ],
 "metadata": {
  "kernelspec": {
   "display_name": "Python 3 (ipykernel)",
   "language": "python",
   "name": "python3"
  },
  "language_info": {
   "codemirror_mode": {
    "name": "ipython",
    "version": 3
   },
   "file_extension": ".py",
   "mimetype": "text/x-python",
   "name": "python",
   "nbconvert_exporter": "python",
   "pygments_lexer": "ipython3",
   "version": "3.11.6"
  }
 },
 "nbformat": 4,
 "nbformat_minor": 5
}
